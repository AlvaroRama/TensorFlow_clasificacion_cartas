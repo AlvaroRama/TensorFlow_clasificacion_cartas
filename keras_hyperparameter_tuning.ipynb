{
 "cells": [
  {
   "cell_type": "code",
   "execution_count": 7,
   "metadata": {},
   "outputs": [],
   "source": [
    "import numpy as np\n",
    "import pandas as pd\n",
    "import tensorflow as tf\n",
    "from tensorflow.keras import layers, models, regularizers\n",
    "import keras_tuner as kt\n",
    "import os\n",
    "import keras"
   ]
  },
  {
   "cell_type": "code",
   "execution_count": 8,
   "metadata": {},
   "outputs": [
    {
     "name": "stdout",
     "output_type": "stream",
     "text": [
      "['/device:GPU:0']\n"
     ]
    },
    {
     "name": "stderr",
     "output_type": "stream",
     "text": [
      "I0000 00:00:1742363410.908303    4860 gpu_device.cc:2019] Created device /device:GPU:0 with 7537 MB memory:  -> device: 0, name: NVIDIA GeForce RTX 3080, pci bus id: 0000:06:00.0, compute capability: 8.6\n"
     ]
    }
   ],
   "source": [
    "from tensorflow.python.client import device_lib\n",
    "\n",
    "def gpuon():\n",
    "    local_device_protos = device_lib.list_local_devices()\n",
    "    print([x.name for x in local_device_protos if x.device_type == 'GPU'])\n",
    "\n",
    "gpuon()"
   ]
  },
  {
   "cell_type": "code",
   "execution_count": 9,
   "metadata": {},
   "outputs": [
    {
     "name": "stdout",
     "output_type": "stream",
     "text": [
      "Carpeta de modelos creada: /home/alvaro/ml/PEC1AP/Modelos/keras_tuner\n"
     ]
    }
   ],
   "source": [
    "#Definición de directorios:\n",
    "dataset_dir = os.path.join(os.getcwd(), \"dataset\")\n",
    "train_dir = os.path.join(dataset_dir, \"train\")\n",
    "test_dir = os.path.join(dataset_dir, \"test\")\n",
    "valid_dir = os.path.join(dataset_dir, \"valid\")\n",
    "\n",
    "# Definimos y creamos la carpeta donde se guardarán los modelos.\n",
    "carpeta_modelos = os.path.join(os.getcwd(), \"Modelos\")\n",
    "\n",
    "keras_tuner_dir = os.path.join(carpeta_modelos, \"keras_tuner\")\n",
    "\n",
    "os.makedirs(keras_tuner_dir, exist_ok=True)\n",
    "\n",
    "print(f\"Carpeta de modelos creada: {keras_tuner_dir}\")\n",
    "\n",
    "# Directorios de Keras Tuner y TensorBoard\n",
    "KERAS_TRIALS_DIR = \"kerastuner\"\n",
    "KERAS_PROJECT_NAME = \"image_classification\"\n",
    "KERAS_PROJECT_TENSORBOARD = \"tensorboard_logs\""
   ]
  },
  {
   "cell_type": "code",
   "execution_count": 10,
   "metadata": {},
   "outputs": [],
   "source": [
    "# Parámetros\n",
    "batch_size = 32\n",
    "img_height = 224\n",
    "img_width = 224\n",
    "AUTOTUNE = tf.data.AUTOTUNE\n",
    "tf.random.set_seed(42)  # Establecemos semilla"
   ]
  },
  {
   "cell_type": "code",
   "execution_count": 11,
   "metadata": {},
   "outputs": [
    {
     "name": "stdout",
     "output_type": "stream",
     "text": [
      "Found 7624 files belonging to 53 classes.\n",
      "Found 265 files belonging to 53 classes.\n",
      "Found 265 files belonging to 53 classes.\n"
     ]
    }
   ],
   "source": [
    "# Carga de datos de entrenamiento\n",
    "train_ds = tf.keras.utils.image_dataset_from_directory(\n",
    "    train_dir,\n",
    "    batch_size=batch_size,\n",
    "    image_size=(img_height, img_width),\n",
    "    label_mode=\"categorical\",\n",
    "    seed=42,\n",
    "    shuffle=True)\n",
    "\n",
    "# Carga de datos de test\n",
    "test_ds = tf.keras.utils.image_dataset_from_directory(\n",
    "    test_dir,\n",
    "    batch_size=batch_size,\n",
    "    image_size=(img_height, img_width),\n",
    "    label_mode=\"categorical\",\n",
    "    seed=42,\n",
    "    shuffle=False)\n",
    "\n",
    "val_ds = tf.keras.utils.image_dataset_from_directory(\n",
    "    valid_dir,\n",
    "    batch_size=batch_size,\n",
    "    image_size=(img_height, img_width),\n",
    "    label_mode=\"categorical\",\n",
    "    seed=42,\n",
    "    shuffle=False\n",
    ")"
   ]
  },
  {
   "cell_type": "code",
   "execution_count": 12,
   "metadata": {},
   "outputs": [],
   "source": [
    "# Normalización\n",
    "normalization_layer = layers.Rescaling(1./255)\n",
    "train_ds = train_ds.map(lambda x, y: (normalization_layer(x), y)).cache().shuffle(1000).prefetch(buffer_size=AUTOTUNE)\n",
    "test_ds = test_ds.map(lambda x, y: (normalization_layer(x), y)).cache().prefetch(buffer_size=AUTOTUNE)\n",
    "val_ds = val_ds.map(lambda x, y: (normalization_layer(x), y)).cache().prefetch(buffer_size=AUTOTUNE)\n",
    "\n",
    "# Número de clases\n",
    "num_classes = 53"
   ]
  },
  {
   "cell_type": "code",
   "execution_count": 6,
   "metadata": {},
   "outputs": [],
   "source": [
    "# Función para construir el modelo con Keras Tuner\n",
    "# Demostramos la superioridad de los modelos convolucionales frente a las redes de perceptrón multicapa.\n",
    "def build_model(hp):\n",
    "    model_type = hp.Choice(\"model_type\", [\"mlp\", \"cnn\"])  # Permite seleccionar MLP o CNN\n",
    "    inputs = layers.Input(shape=(img_height, img_width, 3))\n",
    "    x = inputs\n",
    "\n",
    "    if model_type == \"cnn\":\n",
    "        # Construcción de una CNN con hiperparámetros optimizables\n",
    "        for layer in range(hp.Int(\"cnn_layers\", 2, 4)):\n",
    "            x = layers.Conv2D(\n",
    "                hp.Int(f\"filters_{layer}\", 16, 128, step=16),\n",
    "                kernel_size=(3, 3),\n",
    "                activation=hp.Choice(\"activation\", values=[\"relu\", \"tanh\"]),\n",
    "                padding=\"same\")(x)\n",
    "            x = layers.BatchNormalization()(x)\n",
    "            x = layers.MaxPooling2D(pool_size=(2, 2))(x)\n",
    "\n",
    "        x = layers.Flatten()(x)\n",
    "\n",
    "    elif model_type == \"mlp\":\n",
    "        # Construcción de una MLP con hiperparámetros optimizables\n",
    "        x = layers.Flatten()(x)\n",
    "        for layer in range(hp.Int(\"mlp_layers\", 1, 3)):\n",
    "            x = layers.Dense(\n",
    "                hp.Int(f\"units_{layer}\", 64, 128, step=32),\n",
    "                activation=hp.Choice(\"activation\", values=[\"relu\", \"tanh\"]))(x)\n",
    "\n",
    "    # Dropout antes de la capa densa\n",
    "    if hp.Boolean(\"dropout_before_dense\"):\n",
    "        x = layers.Dropout(0.5)(x)\n",
    "\n",
    "    x = layers.Dense(\n",
    "        units=hp.Int(\"dense_units\", 64, 128, step=32),\n",
    "        activation=hp.Choice(\"activation\", values=[\"relu\", \"tanh\"]))(x)\n",
    "\n",
    "    # Dropout después de la capa densa\n",
    "    if hp.Boolean(\"dropout_after_dense\"):\n",
    "        x = layers.Dropout(0.5)(x)\n",
    "\n",
    "    outputs = layers.Dense(num_classes, activation=\"softmax\")(x)\n",
    "    model = models.Model(inputs=inputs, outputs=outputs)\n",
    "\n",
    "    model.compile(\n",
    "        optimizer=\"adam\",\n",
    "        loss=\"categorical_crossentropy\",\n",
    "        metrics=[\"accuracy\"]\n",
    "    )\n",
    "\n",
    "    return model\n"
   ]
  },
  {
   "cell_type": "code",
   "execution_count": 7,
   "metadata": {},
   "outputs": [],
   "source": [
    "# Configuración de Keras Tuner con Random Search\n",
    "tuner = kt.RandomSearch(\n",
    "    build_model,\n",
    "    max_trials=10,  # Prueba 10 configuraciones diferentes\n",
    "    objective=\"val_accuracy\",\n",
    "    directory=KERAS_TRIALS_DIR,\n",
    "    project_name=KERAS_PROJECT_NAME,\n",
    "    overwrite=True\n",
    ")"
   ]
  },
  {
   "cell_type": "code",
   "execution_count": 8,
   "metadata": {},
   "outputs": [
    {
     "name": "stdout",
     "output_type": "stream",
     "text": [
      "Trial 10 Complete [03h 30m 33s]\n",
      "val_accuracy: 0.47547170519828796\n",
      "\n",
      "Best val_accuracy So Far: 0.47547170519828796\n",
      "Total elapsed time: 09h 01m 15s\n"
     ]
    }
   ],
   "source": [
    "# Realiza la búsqueda sin entrenar el modelo\n",
    "tuner.search(\n",
    "    train_ds,\n",
    "    validation_data=test_ds,  # Usa test_ds como validación, pero sin usarlo luego en test\n",
    "    epochs=10,  # Solo para buscar hiperparámetros\n",
    "    callbacks=[tf.keras.callbacks.TensorBoard(log_dir=KERAS_PROJECT_TENSORBOARD)]\n",
    ")"
   ]
  },
  {
   "cell_type": "code",
   "execution_count": 10,
   "metadata": {},
   "outputs": [
    {
     "name": "stdout",
     "output_type": "stream",
     "text": [
      "Results summary\n",
      "Results in kerastuner\\image_classification\n",
      "Showing 10 best trials\n",
      "Objective(name=\"val_accuracy\", direction=\"max\")\n",
      "\n",
      "Trial 09 summary\n",
      "Hyperparameters:\n",
      "model_type: cnn\n",
      "mlp_layers: 2\n",
      "units_0: 64\n",
      "activation: relu\n",
      "dropout_before_dense: True\n",
      "dense_units: 128\n",
      "dropout_after_dense: True\n",
      "cnn_layers: 3\n",
      "filters_0: 128\n",
      "filters_1: 48\n",
      "units_1: 96\n",
      "filters_2: 16\n",
      "Score: 0.47547170519828796\n",
      "\n",
      "Trial 06 summary\n",
      "Hyperparameters:\n",
      "model_type: cnn\n",
      "mlp_layers: 3\n",
      "units_0: 64\n",
      "activation: tanh\n",
      "dropout_before_dense: True\n",
      "dense_units: 96\n",
      "dropout_after_dense: False\n",
      "cnn_layers: 2\n",
      "filters_0: 112\n",
      "filters_1: 16\n",
      "Score: 0.35849055647850037\n",
      "\n",
      "Trial 02 summary\n",
      "Hyperparameters:\n",
      "model_type: cnn\n",
      "mlp_layers: 2\n",
      "units_0: 128\n",
      "activation: relu\n",
      "dropout_before_dense: False\n",
      "dense_units: 96\n",
      "dropout_after_dense: True\n",
      "cnn_layers: 2\n",
      "filters_0: 16\n",
      "filters_1: 16\n",
      "Score: 0.03773584961891174\n",
      "\n",
      "Trial 05 summary\n",
      "Hyperparameters:\n",
      "model_type: cnn\n",
      "mlp_layers: 1\n",
      "units_0: 64\n",
      "activation: relu\n",
      "dropout_before_dense: False\n",
      "dense_units: 128\n",
      "dropout_after_dense: True\n",
      "cnn_layers: 2\n",
      "filters_0: 64\n",
      "filters_1: 112\n",
      "Score: 0.03396226465702057\n",
      "\n",
      "Trial 08 summary\n",
      "Hyperparameters:\n",
      "model_type: mlp\n",
      "mlp_layers: 2\n",
      "units_0: 64\n",
      "activation: tanh\n",
      "dropout_before_dense: False\n",
      "dense_units: 128\n",
      "dropout_after_dense: True\n",
      "cnn_layers: 2\n",
      "filters_0: 48\n",
      "filters_1: 64\n",
      "units_1: 64\n",
      "Score: 0.02641509473323822\n",
      "\n",
      "Trial 00 summary\n",
      "Hyperparameters:\n",
      "model_type: mlp\n",
      "mlp_layers: 1\n",
      "units_0: 96\n",
      "activation: relu\n",
      "dropout_before_dense: False\n",
      "dense_units: 128\n",
      "dropout_after_dense: False\n",
      "Score: 0.01886792480945587\n",
      "\n",
      "Trial 01 summary\n",
      "Hyperparameters:\n",
      "model_type: mlp\n",
      "mlp_layers: 1\n",
      "units_0: 128\n",
      "activation: relu\n",
      "dropout_before_dense: True\n",
      "dense_units: 128\n",
      "dropout_after_dense: True\n",
      "Score: 0.01886792480945587\n",
      "\n",
      "Trial 03 summary\n",
      "Hyperparameters:\n",
      "model_type: cnn\n",
      "mlp_layers: 1\n",
      "units_0: 64\n",
      "activation: relu\n",
      "dropout_before_dense: True\n",
      "dense_units: 64\n",
      "dropout_after_dense: False\n",
      "cnn_layers: 2\n",
      "filters_0: 48\n",
      "filters_1: 64\n",
      "Score: 0.01886792480945587\n",
      "\n",
      "Trial 04 summary\n",
      "Hyperparameters:\n",
      "model_type: mlp\n",
      "mlp_layers: 1\n",
      "units_0: 96\n",
      "activation: relu\n",
      "dropout_before_dense: False\n",
      "dense_units: 96\n",
      "dropout_after_dense: False\n",
      "cnn_layers: 2\n",
      "filters_0: 128\n",
      "filters_1: 128\n",
      "Score: 0.01886792480945587\n",
      "\n",
      "Trial 07 summary\n",
      "Hyperparameters:\n",
      "model_type: mlp\n",
      "mlp_layers: 1\n",
      "units_0: 96\n",
      "activation: relu\n",
      "dropout_before_dense: False\n",
      "dense_units: 64\n",
      "dropout_after_dense: False\n",
      "cnn_layers: 3\n",
      "filters_0: 80\n",
      "filters_1: 128\n",
      "Score: 0.01886792480945587\n"
     ]
    }
   ],
   "source": [
    "tuner.results_summary()"
   ]
  },
  {
   "cell_type": "code",
   "execution_count": 9,
   "metadata": {},
   "outputs": [
    {
     "name": "stdout",
     "output_type": "stream",
     "text": [
      "{'model_type': 'cnn', 'mlp_layers': 2, 'units_0': 64, 'activation': 'relu', 'dropout_before_dense': True, 'dense_units': 128, 'dropout_after_dense': True, 'cnn_layers': 3, 'filters_0': 128, 'filters_1': 48, 'units_1': 96, 'filters_2': 16}\n"
     ]
    }
   ],
   "source": [
    "best_hps = tuner.get_best_hyperparameters(num_trials=1)[0]\n",
    "print(best_hps.values)"
   ]
  },
  {
   "cell_type": "code",
   "execution_count": 11,
   "metadata": {},
   "outputs": [
    {
     "name": "stdout",
     "output_type": "stream",
     "text": [
      "  model_type  mlp_layers  units_0 activation  dropout_before_dense  \\\n",
      "0        cnn           2       64       relu                  True   \n",
      "1        cnn           3       64       tanh                  True   \n",
      "2        cnn           2      128       relu                 False   \n",
      "3        cnn           1       64       relu                 False   \n",
      "4        mlp           2       64       tanh                 False   \n",
      "5        mlp           1       96       relu                 False   \n",
      "6        mlp           1      128       relu                  True   \n",
      "7        cnn           1       64       relu                  True   \n",
      "8        mlp           1       96       relu                 False   \n",
      "9        mlp           1       96       relu                 False   \n",
      "\n",
      "   dense_units  dropout_after_dense  cnn_layers  filters_0  filters_1  \\\n",
      "0          128                 True         3.0      128.0       48.0   \n",
      "1           96                False         2.0      112.0       16.0   \n",
      "2           96                 True         2.0       16.0       16.0   \n",
      "3          128                 True         2.0       64.0      112.0   \n",
      "4          128                 True         2.0       48.0       64.0   \n",
      "5          128                False         NaN        NaN        NaN   \n",
      "6          128                 True         NaN        NaN        NaN   \n",
      "7           64                False         2.0       48.0       64.0   \n",
      "8           96                False         2.0      128.0      128.0   \n",
      "9           64                False         3.0       80.0      128.0   \n",
      "\n",
      "   units_1  filters_2     score  \n",
      "0     96.0       16.0  0.475472  \n",
      "1      NaN        NaN  0.358491  \n",
      "2      NaN        NaN  0.037736  \n",
      "3      NaN        NaN  0.033962  \n",
      "4     64.0        NaN  0.026415  \n",
      "5      NaN        NaN  0.018868  \n",
      "6      NaN        NaN  0.018868  \n",
      "7      NaN        NaN  0.018868  \n",
      "8      NaN        NaN  0.018868  \n",
      "9      NaN        NaN  0.018868  \n"
     ]
    }
   ],
   "source": [
    "#Importamos los resultados para visualizar los trials en un data frame y salvar los resultados en un csv.\n",
    "\n",
    "trials = tuner.oracle.get_best_trials(num_trials=10)  # Cambia el número según lo que quieras ver\n",
    "\n",
    "data = []\n",
    "for trial in trials:\n",
    "    trial_data = trial.hyperparameters.values\n",
    "    trial_data[\"score\"] = trial.score  # Agrega el score del modelo\n",
    "    data.append(trial_data)\n",
    "\n",
    "df = pd.DataFrame(data)\n",
    "\n",
    "# Exportar el DataFrame a un archivo CSV\n",
    "df.to_csv(\"trials_data.csv\", index=False)\n",
    "\n",
    "print(df)"
   ]
  },
  {
   "cell_type": "code",
   "execution_count": 1,
   "metadata": {
    "vscode": {
     "languageId": "bat"
    }
   },
   "outputs": [
    {
     "name": "stdout",
     "output_type": "stream",
     "text": [
      "^C\n"
     ]
    }
   ],
   "source": [
    "#Visualización de estadísticas en Tensorboard\n",
    "!tensorboard --logdir=tensorboard_logs"
   ]
  },
  {
   "cell_type": "markdown",
   "metadata": {
    "vscode": {
     "languageId": "bat"
    }
   },
   "source": [
    "De nuevo, vamos a proceder a la búsqueda de la mejor configuración centrándonos en redes CNN limitando a 2-4 capas de convolución y 1-2 capas densas."
   ]
  },
  {
   "cell_type": "code",
   "execution_count": null,
   "metadata": {},
   "outputs": [],
   "source": [
    "def build_model(hp):\n",
    "    inputs = layers.Input(shape=(img_height, img_width, 3))\n",
    "    x = inputs\n",
    "\n",
    "    # Construcción de una CNN con hiperparámetros optimizables\n",
    "    for layer in range(hp.Int(\"cnn_layers\", 2, 4)):  # Entre 2 y 4 capas convolucionales\n",
    "        x = layers.Conv2D(\n",
    "            filters=hp.Int(f\"filters_{layer}\", 16, 128, step=16),\n",
    "            kernel_size=(3, 3),\n",
    "            activation=hp.Choice(\"activation\", values=[\"relu\", \"tanh\"]),\n",
    "            padding=\"same\",\n",
    "            kernel_regularizer=regularizers.l2(hp.Float(\"l2_conv\", 1e-5, 1e-2, sampling=\"LOG\")) # L2 regularization\n",
    "        )(x)\n",
    "        x = layers.BatchNormalization()(x)\n",
    "        x = layers.MaxPooling2D(pool_size=(2, 2))(x)\n",
    "\n",
    "        # Dropout en las capas convolucionales con valor configurable\n",
    "        if hp.Boolean(\"dropout_conv\"):\n",
    "            x = layers.Dropout(hp.Float(\"dropout_rate_conv\", 0.2, 0.5, step=0.1))(x)\n",
    "\n",
    "    x = layers.Flatten()(x)\n",
    "\n",
    "    # Capas densas limitadas entre 1 y 2\n",
    "    for layer in range(hp.Int(\"dense_layers\", 1, 2)):\n",
    "        x = layers.Dense(\n",
    "            units=hp.Int(f\"dense_units_{layer}\", 64, 256, step=64),\n",
    "            activation=hp.Choice(\"activation_dense\", values=[\"relu\", \"tanh\"]),\n",
    "            kernel_regularizer=regularizers.l2(hp.Float(\"l2_dense\", 1e-5, 1e-2, sampling=\"LOG\")) # L2 regularization\n",
    "        )(x)\n",
    "        \n",
    "        # Dropout después de la capa densa con valor configurable\n",
    "        if hp.Boolean(\"dropout_dense\"):\n",
    "            x = layers.Dropout(hp.Float(\"dropout_rate_dense\", 0.2, 0.5, step=0.1))(x)\n",
    "\n",
    "    outputs = layers.Dense(num_classes, activation=\"softmax\")(x)\n",
    "    model = models.Model(inputs=inputs, outputs=outputs)\n",
    "\n",
    "    # Optimización con Adam, RMSprop o SGD\n",
    "    model.compile(\n",
    "        optimizer=hp.Choice(\"optimizer\", [\"adam\", \"rmsprop\", \"sgd\"]),\n",
    "        loss=\"categorical_crossentropy\",\n",
    "        metrics=[\"accuracy\"]\n",
    "    )\n",
    "\n",
    "    return model\n",
    "\n",
    "# Configuración de Keras Tuner con Random Search\n",
    "tuner = kt.RandomSearch(\n",
    "    build_model,\n",
    "    max_trials=20,  # Aumentamos el número de configuraciones probadas\n",
    "    objective=\"val_accuracy\",\n",
    "    directory=KERAS_TRIALS_DIR,\n",
    "    project_name=KERAS_PROJECT_NAME,\n",
    "    overwrite=True\n",
    ")\n",
    "\n",
    "# Realiza la búsqueda de hiperparámetros\n",
    "tuner.search(\n",
    "    train_ds,\n",
    "    validation_data=test_ds,\n",
    "    epochs=15,  # Aumentamos las épocas para capturar más variabilidad\n",
    "    callbacks=[tf.keras.callbacks.TensorBoard(log_dir=KERAS_PROJECT_TENSORBOARD)]\n",
    ")"
   ]
  },
  {
   "cell_type": "markdown",
   "metadata": {},
   "source": [
    "Nueva búsqueda de hiperparámetros más centrada en los dos mejores resultados de la busqueda anterior. "
   ]
  },
  {
   "cell_type": "code",
   "execution_count": 6,
   "metadata": {},
   "outputs": [],
   "source": [
    "import tensorflow as tf\n",
    "from tensorflow.keras import layers, models\n",
    "import keras_tuner as kt\n",
    "\n",
    "# Función para construir el modelo basado en los dos mejores modelos\n",
    "def build_model_best_hps(hp):\n",
    "    # Valores FIJOS\n",
    "    model_type = \"cnn\"  # Ambos modelos eran CNN\n",
    "    units_0 = 64  # Ambos usaban 64 unidades en la primera capa densa\n",
    "    dropout_before_dense = True  # Ambos aplicaban dropout antes de la capa densa\n",
    "\n",
    "    inputs = layers.Input(shape=(img_height, img_width, 3))\n",
    "    x = inputs\n",
    "\n",
    "    if model_type == \"cnn\":\n",
    "        # Número de capas convolucionales (variable: 2 o 3)\n",
    "        cnn_layers = hp.Choice(\"cnn_layers\", [2, 3])\n",
    "        \n",
    "        # Construcción de capas convolucionales\n",
    "        for layer in range(cnn_layers):\n",
    "            filters = hp.Choice(f\"filters_{layer}\", [128, 112] if layer == 0 else [48, 16])\n",
    "            x = layers.Conv2D(\n",
    "                filters,\n",
    "                kernel_size=(3, 3),\n",
    "                activation=hp.Choice(\"activation\", values=[\"relu\", \"tanh\"]),  # Variable\n",
    "                padding=\"same\")(x)\n",
    "            x = layers.BatchNormalization()(x)\n",
    "            x = layers.MaxPooling2D(pool_size=(2, 2))(x)\n",
    "\n",
    "        x = layers.Flatten()(x)\n",
    "\n",
    "    # Dropout antes de la capa densa (fijo en True)\n",
    "    x = layers.Dropout(0.5)(x)\n",
    "\n",
    "    # Capa densa con unidades variables (128 o 96)\n",
    "    x = layers.Dense(\n",
    "        units=hp.Choice(\"dense_units\", [128, 96]),\n",
    "        activation=hp.Choice(\"activation\", values=[\"relu\", \"tanh\"]))(x)\n",
    "\n",
    "    # Dropout después de la capa densa (variable: True o False)\n",
    "    if hp.Boolean(\"dropout_after_dense\"):\n",
    "        x = layers.Dropout(0.5)(x)\n",
    "\n",
    "    outputs = layers.Dense(num_classes, activation=\"softmax\")(x)\n",
    "    model = models.Model(inputs=inputs, outputs=outputs)\n",
    "\n",
    "    model.compile(\n",
    "        optimizer=\"adam\",\n",
    "        loss=\"categorical_crossentropy\",\n",
    "        metrics=[\"accuracy\"]\n",
    "    )\n",
    "\n",
    "    return model"
   ]
  },
  {
   "cell_type": "code",
   "execution_count": 7,
   "metadata": {},
   "outputs": [],
   "source": [
    "# Configuración del tuner nuevamente con los directorios definidos\n",
    "\n",
    "tuner = kt.Hyperband(\n",
    "    build_model_best_hps,\n",
    "    objective=\"val_accuracy\",\n",
    "    max_epochs=15,  # Más épocas para mejorar el modelo\n",
    "    directory=KERAS_TRIALS_DIR,\n",
    "    project_name=KERAS_PROJECT_NAME\n",
    ")"
   ]
  },
  {
   "cell_type": "code",
   "execution_count": 8,
   "metadata": {},
   "outputs": [
    {
     "name": "stdout",
     "output_type": "stream",
     "text": [
      "Trial 30 Complete [00h 43m 00s]\n",
      "val_accuracy: 0.5622641444206238\n",
      "\n",
      "Best val_accuracy So Far: 0.8377358317375183\n",
      "Total elapsed time: 08h 43m 26s\n"
     ]
    }
   ],
   "source": [
    "# Realiza la búsqueda sin entrenar el modelo\n",
    "tuner.search(\n",
    "    train_ds,\n",
    "    validation_data=test_ds,\n",
    "    epochs=10,  # Solo para buscar hiperparámetros\n",
    "    callbacks=[tf.keras.callbacks.TensorBoard(log_dir=KERAS_PROJECT_TENSORBOARD)]\n",
    ")"
   ]
  },
  {
   "cell_type": "code",
   "execution_count": 9,
   "metadata": {},
   "outputs": [
    {
     "name": "stdout",
     "output_type": "stream",
     "text": [
      "{'cnn_layers': 3, 'filters_0': 112, 'activation': 'relu', 'filters_1': 48, 'dense_units': 128, 'dropout_after_dense': False, 'filters_2': 16, 'tuner/epochs': 15, 'tuner/initial_epoch': 5, 'tuner/bracket': 2, 'tuner/round': 2, 'tuner/trial_id': '0012'}\n"
     ]
    }
   ],
   "source": [
    "best_hps = tuner.get_best_hyperparameters(num_trials=1)[0]\n",
    "print(best_hps.values)"
   ]
  },
  {
   "cell_type": "code",
   "execution_count": 10,
   "metadata": {},
   "outputs": [
    {
     "name": "stdout",
     "output_type": "stream",
     "text": [
      "   cnn_layers  filters_0 activation  filters_1  dense_units  \\\n",
      "0           3        112       relu         48          128   \n",
      "1           2        128       relu         16          128   \n",
      "2           2        128       relu         16          128   \n",
      "3           3        112       relu         16           96   \n",
      "4           2        128       relu         16           96   \n",
      "5           3        112       relu         48          128   \n",
      "6           2        128       relu         16          128   \n",
      "7           2        128       relu         16          128   \n",
      "8           3        128       relu         48          128   \n",
      "9           2        112       relu         16           96   \n",
      "\n",
      "   dropout_after_dense  filters_2  tuner/epochs  tuner/initial_epoch  \\\n",
      "0                False         16            15                    5   \n",
      "1                False         48            15                    5   \n",
      "2                False         16            15                    5   \n",
      "3                False         16            15                    5   \n",
      "4                False         16            15                    0   \n",
      "5                False         16             5                    2   \n",
      "6                False         16             5                    2   \n",
      "7                False         48             5                    0   \n",
      "8                False         48             5                    2   \n",
      "9                False         16             5                    2   \n",
      "\n",
      "   tuner/bracket  tuner/round tuner/trial_id     score  \n",
      "0              2            2           0012  0.837736  \n",
      "1              1            1           0018  0.830189  \n",
      "2              2            2           0014  0.807547  \n",
      "3              1            1           0021  0.807547  \n",
      "4              0            0            NaN  0.788679  \n",
      "5              2            1           0004  0.762264  \n",
      "6              2            1           0010  0.735849  \n",
      "7              1            0            NaN  0.735849  \n",
      "8              2            1           0000  0.732075  \n",
      "9              2            1           0002  0.679245  \n"
     ]
    }
   ],
   "source": [
    "trials = tuner.oracle.get_best_trials(num_trials=10)\n",
    "\n",
    "data = []\n",
    "for trial in trials:\n",
    "    trial_data = trial.hyperparameters.values\n",
    "    trial_data[\"score\"] = trial.score\n",
    "    data.append(trial_data)\n",
    "\n",
    "df = pd.DataFrame(data)\n",
    "\n",
    "df.to_csv(\"trials_data.csv\", index=False)\n",
    "\n",
    "print(df)"
   ]
  },
  {
   "cell_type": "code",
   "execution_count": 11,
   "metadata": {},
   "outputs": [],
   "source": [
    "# Callback para visualizar en TensorBoard\n",
    "tensorboard_cb = tf.keras.callbacks.TensorBoard(log_dir=KERAS_PROJECT_TENSORBOARD)"
   ]
  },
  {
   "cell_type": "code",
   "execution_count": 16,
   "metadata": {},
   "outputs": [
    {
     "data": {
      "text/html": [
       "<pre style=\"white-space:pre;overflow-x:auto;line-height:normal;font-family:Menlo,'DejaVu Sans Mono',consolas,'Courier New',monospace\"><span style=\"font-weight: bold\">Model: \"sequential_1\"</span>\n",
       "</pre>\n"
      ],
      "text/plain": [
       "\u001b[1mModel: \"sequential_1\"\u001b[0m\n"
      ]
     },
     "metadata": {},
     "output_type": "display_data"
    },
    {
     "data": {
      "text/html": [
       "<pre style=\"white-space:pre;overflow-x:auto;line-height:normal;font-family:Menlo,'DejaVu Sans Mono',consolas,'Courier New',monospace\">┏━━━━━━━━━━━━━━━━━━━━━━━━━━━━━━━━━┳━━━━━━━━━━━━━━━━━━━━━━━━┳━━━━━━━━━━━━━━━┓\n",
       "┃<span style=\"font-weight: bold\"> Layer (type)                    </span>┃<span style=\"font-weight: bold\"> Output Shape           </span>┃<span style=\"font-weight: bold\">       Param # </span>┃\n",
       "┡━━━━━━━━━━━━━━━━━━━━━━━━━━━━━━━━━╇━━━━━━━━━━━━━━━━━━━━━━━━╇━━━━━━━━━━━━━━━┩\n",
       "│ conv2d_3 (<span style=\"color: #0087ff; text-decoration-color: #0087ff\">Conv2D</span>)               │ (<span style=\"color: #00d7ff; text-decoration-color: #00d7ff\">None</span>, <span style=\"color: #00af00; text-decoration-color: #00af00\">224</span>, <span style=\"color: #00af00; text-decoration-color: #00af00\">224</span>, <span style=\"color: #00af00; text-decoration-color: #00af00\">112</span>)  │         <span style=\"color: #00af00; text-decoration-color: #00af00\">3,136</span> │\n",
       "├─────────────────────────────────┼────────────────────────┼───────────────┤\n",
       "│ batch_normalization_3           │ (<span style=\"color: #00d7ff; text-decoration-color: #00d7ff\">None</span>, <span style=\"color: #00af00; text-decoration-color: #00af00\">224</span>, <span style=\"color: #00af00; text-decoration-color: #00af00\">224</span>, <span style=\"color: #00af00; text-decoration-color: #00af00\">112</span>)  │           <span style=\"color: #00af00; text-decoration-color: #00af00\">448</span> │\n",
       "│ (<span style=\"color: #0087ff; text-decoration-color: #0087ff\">BatchNormalization</span>)            │                        │               │\n",
       "├─────────────────────────────────┼────────────────────────┼───────────────┤\n",
       "│ max_pooling2d_3 (<span style=\"color: #0087ff; text-decoration-color: #0087ff\">MaxPooling2D</span>)  │ (<span style=\"color: #00d7ff; text-decoration-color: #00d7ff\">None</span>, <span style=\"color: #00af00; text-decoration-color: #00af00\">112</span>, <span style=\"color: #00af00; text-decoration-color: #00af00\">112</span>, <span style=\"color: #00af00; text-decoration-color: #00af00\">112</span>)  │             <span style=\"color: #00af00; text-decoration-color: #00af00\">0</span> │\n",
       "├─────────────────────────────────┼────────────────────────┼───────────────┤\n",
       "│ conv2d_4 (<span style=\"color: #0087ff; text-decoration-color: #0087ff\">Conv2D</span>)               │ (<span style=\"color: #00d7ff; text-decoration-color: #00d7ff\">None</span>, <span style=\"color: #00af00; text-decoration-color: #00af00\">112</span>, <span style=\"color: #00af00; text-decoration-color: #00af00\">112</span>, <span style=\"color: #00af00; text-decoration-color: #00af00\">48</span>)   │        <span style=\"color: #00af00; text-decoration-color: #00af00\">48,432</span> │\n",
       "├─────────────────────────────────┼────────────────────────┼───────────────┤\n",
       "│ batch_normalization_4           │ (<span style=\"color: #00d7ff; text-decoration-color: #00d7ff\">None</span>, <span style=\"color: #00af00; text-decoration-color: #00af00\">112</span>, <span style=\"color: #00af00; text-decoration-color: #00af00\">112</span>, <span style=\"color: #00af00; text-decoration-color: #00af00\">48</span>)   │           <span style=\"color: #00af00; text-decoration-color: #00af00\">192</span> │\n",
       "│ (<span style=\"color: #0087ff; text-decoration-color: #0087ff\">BatchNormalization</span>)            │                        │               │\n",
       "├─────────────────────────────────┼────────────────────────┼───────────────┤\n",
       "│ max_pooling2d_4 (<span style=\"color: #0087ff; text-decoration-color: #0087ff\">MaxPooling2D</span>)  │ (<span style=\"color: #00d7ff; text-decoration-color: #00d7ff\">None</span>, <span style=\"color: #00af00; text-decoration-color: #00af00\">56</span>, <span style=\"color: #00af00; text-decoration-color: #00af00\">56</span>, <span style=\"color: #00af00; text-decoration-color: #00af00\">48</span>)     │             <span style=\"color: #00af00; text-decoration-color: #00af00\">0</span> │\n",
       "├─────────────────────────────────┼────────────────────────┼───────────────┤\n",
       "│ conv2d_5 (<span style=\"color: #0087ff; text-decoration-color: #0087ff\">Conv2D</span>)               │ (<span style=\"color: #00d7ff; text-decoration-color: #00d7ff\">None</span>, <span style=\"color: #00af00; text-decoration-color: #00af00\">56</span>, <span style=\"color: #00af00; text-decoration-color: #00af00\">56</span>, <span style=\"color: #00af00; text-decoration-color: #00af00\">16</span>)     │         <span style=\"color: #00af00; text-decoration-color: #00af00\">6,928</span> │\n",
       "├─────────────────────────────────┼────────────────────────┼───────────────┤\n",
       "│ batch_normalization_5           │ (<span style=\"color: #00d7ff; text-decoration-color: #00d7ff\">None</span>, <span style=\"color: #00af00; text-decoration-color: #00af00\">56</span>, <span style=\"color: #00af00; text-decoration-color: #00af00\">56</span>, <span style=\"color: #00af00; text-decoration-color: #00af00\">16</span>)     │            <span style=\"color: #00af00; text-decoration-color: #00af00\">64</span> │\n",
       "│ (<span style=\"color: #0087ff; text-decoration-color: #0087ff\">BatchNormalization</span>)            │                        │               │\n",
       "├─────────────────────────────────┼────────────────────────┼───────────────┤\n",
       "│ max_pooling2d_5 (<span style=\"color: #0087ff; text-decoration-color: #0087ff\">MaxPooling2D</span>)  │ (<span style=\"color: #00d7ff; text-decoration-color: #00d7ff\">None</span>, <span style=\"color: #00af00; text-decoration-color: #00af00\">28</span>, <span style=\"color: #00af00; text-decoration-color: #00af00\">28</span>, <span style=\"color: #00af00; text-decoration-color: #00af00\">16</span>)     │             <span style=\"color: #00af00; text-decoration-color: #00af00\">0</span> │\n",
       "├─────────────────────────────────┼────────────────────────┼───────────────┤\n",
       "│ flatten_1 (<span style=\"color: #0087ff; text-decoration-color: #0087ff\">Flatten</span>)             │ (<span style=\"color: #00d7ff; text-decoration-color: #00d7ff\">None</span>, <span style=\"color: #00af00; text-decoration-color: #00af00\">12544</span>)          │             <span style=\"color: #00af00; text-decoration-color: #00af00\">0</span> │\n",
       "├─────────────────────────────────┼────────────────────────┼───────────────┤\n",
       "│ dropout_1 (<span style=\"color: #0087ff; text-decoration-color: #0087ff\">Dropout</span>)             │ (<span style=\"color: #00d7ff; text-decoration-color: #00d7ff\">None</span>, <span style=\"color: #00af00; text-decoration-color: #00af00\">12544</span>)          │             <span style=\"color: #00af00; text-decoration-color: #00af00\">0</span> │\n",
       "├─────────────────────────────────┼────────────────────────┼───────────────┤\n",
       "│ dense_2 (<span style=\"color: #0087ff; text-decoration-color: #0087ff\">Dense</span>)                 │ (<span style=\"color: #00d7ff; text-decoration-color: #00d7ff\">None</span>, <span style=\"color: #00af00; text-decoration-color: #00af00\">128</span>)            │     <span style=\"color: #00af00; text-decoration-color: #00af00\">1,605,760</span> │\n",
       "├─────────────────────────────────┼────────────────────────┼───────────────┤\n",
       "│ dense_3 (<span style=\"color: #0087ff; text-decoration-color: #0087ff\">Dense</span>)                 │ (<span style=\"color: #00d7ff; text-decoration-color: #00d7ff\">None</span>, <span style=\"color: #00af00; text-decoration-color: #00af00\">53</span>)             │         <span style=\"color: #00af00; text-decoration-color: #00af00\">6,837</span> │\n",
       "└─────────────────────────────────┴────────────────────────┴───────────────┘\n",
       "</pre>\n"
      ],
      "text/plain": [
       "┏━━━━━━━━━━━━━━━━━━━━━━━━━━━━━━━━━┳━━━━━━━━━━━━━━━━━━━━━━━━┳━━━━━━━━━━━━━━━┓\n",
       "┃\u001b[1m \u001b[0m\u001b[1mLayer (type)                   \u001b[0m\u001b[1m \u001b[0m┃\u001b[1m \u001b[0m\u001b[1mOutput Shape          \u001b[0m\u001b[1m \u001b[0m┃\u001b[1m \u001b[0m\u001b[1m      Param #\u001b[0m\u001b[1m \u001b[0m┃\n",
       "┡━━━━━━━━━━━━━━━━━━━━━━━━━━━━━━━━━╇━━━━━━━━━━━━━━━━━━━━━━━━╇━━━━━━━━━━━━━━━┩\n",
       "│ conv2d_3 (\u001b[38;5;33mConv2D\u001b[0m)               │ (\u001b[38;5;45mNone\u001b[0m, \u001b[38;5;34m224\u001b[0m, \u001b[38;5;34m224\u001b[0m, \u001b[38;5;34m112\u001b[0m)  │         \u001b[38;5;34m3,136\u001b[0m │\n",
       "├─────────────────────────────────┼────────────────────────┼───────────────┤\n",
       "│ batch_normalization_3           │ (\u001b[38;5;45mNone\u001b[0m, \u001b[38;5;34m224\u001b[0m, \u001b[38;5;34m224\u001b[0m, \u001b[38;5;34m112\u001b[0m)  │           \u001b[38;5;34m448\u001b[0m │\n",
       "│ (\u001b[38;5;33mBatchNormalization\u001b[0m)            │                        │               │\n",
       "├─────────────────────────────────┼────────────────────────┼───────────────┤\n",
       "│ max_pooling2d_3 (\u001b[38;5;33mMaxPooling2D\u001b[0m)  │ (\u001b[38;5;45mNone\u001b[0m, \u001b[38;5;34m112\u001b[0m, \u001b[38;5;34m112\u001b[0m, \u001b[38;5;34m112\u001b[0m)  │             \u001b[38;5;34m0\u001b[0m │\n",
       "├─────────────────────────────────┼────────────────────────┼───────────────┤\n",
       "│ conv2d_4 (\u001b[38;5;33mConv2D\u001b[0m)               │ (\u001b[38;5;45mNone\u001b[0m, \u001b[38;5;34m112\u001b[0m, \u001b[38;5;34m112\u001b[0m, \u001b[38;5;34m48\u001b[0m)   │        \u001b[38;5;34m48,432\u001b[0m │\n",
       "├─────────────────────────────────┼────────────────────────┼───────────────┤\n",
       "│ batch_normalization_4           │ (\u001b[38;5;45mNone\u001b[0m, \u001b[38;5;34m112\u001b[0m, \u001b[38;5;34m112\u001b[0m, \u001b[38;5;34m48\u001b[0m)   │           \u001b[38;5;34m192\u001b[0m │\n",
       "│ (\u001b[38;5;33mBatchNormalization\u001b[0m)            │                        │               │\n",
       "├─────────────────────────────────┼────────────────────────┼───────────────┤\n",
       "│ max_pooling2d_4 (\u001b[38;5;33mMaxPooling2D\u001b[0m)  │ (\u001b[38;5;45mNone\u001b[0m, \u001b[38;5;34m56\u001b[0m, \u001b[38;5;34m56\u001b[0m, \u001b[38;5;34m48\u001b[0m)     │             \u001b[38;5;34m0\u001b[0m │\n",
       "├─────────────────────────────────┼────────────────────────┼───────────────┤\n",
       "│ conv2d_5 (\u001b[38;5;33mConv2D\u001b[0m)               │ (\u001b[38;5;45mNone\u001b[0m, \u001b[38;5;34m56\u001b[0m, \u001b[38;5;34m56\u001b[0m, \u001b[38;5;34m16\u001b[0m)     │         \u001b[38;5;34m6,928\u001b[0m │\n",
       "├─────────────────────────────────┼────────────────────────┼───────────────┤\n",
       "│ batch_normalization_5           │ (\u001b[38;5;45mNone\u001b[0m, \u001b[38;5;34m56\u001b[0m, \u001b[38;5;34m56\u001b[0m, \u001b[38;5;34m16\u001b[0m)     │            \u001b[38;5;34m64\u001b[0m │\n",
       "│ (\u001b[38;5;33mBatchNormalization\u001b[0m)            │                        │               │\n",
       "├─────────────────────────────────┼────────────────────────┼───────────────┤\n",
       "│ max_pooling2d_5 (\u001b[38;5;33mMaxPooling2D\u001b[0m)  │ (\u001b[38;5;45mNone\u001b[0m, \u001b[38;5;34m28\u001b[0m, \u001b[38;5;34m28\u001b[0m, \u001b[38;5;34m16\u001b[0m)     │             \u001b[38;5;34m0\u001b[0m │\n",
       "├─────────────────────────────────┼────────────────────────┼───────────────┤\n",
       "│ flatten_1 (\u001b[38;5;33mFlatten\u001b[0m)             │ (\u001b[38;5;45mNone\u001b[0m, \u001b[38;5;34m12544\u001b[0m)          │             \u001b[38;5;34m0\u001b[0m │\n",
       "├─────────────────────────────────┼────────────────────────┼───────────────┤\n",
       "│ dropout_1 (\u001b[38;5;33mDropout\u001b[0m)             │ (\u001b[38;5;45mNone\u001b[0m, \u001b[38;5;34m12544\u001b[0m)          │             \u001b[38;5;34m0\u001b[0m │\n",
       "├─────────────────────────────────┼────────────────────────┼───────────────┤\n",
       "│ dense_2 (\u001b[38;5;33mDense\u001b[0m)                 │ (\u001b[38;5;45mNone\u001b[0m, \u001b[38;5;34m128\u001b[0m)            │     \u001b[38;5;34m1,605,760\u001b[0m │\n",
       "├─────────────────────────────────┼────────────────────────┼───────────────┤\n",
       "│ dense_3 (\u001b[38;5;33mDense\u001b[0m)                 │ (\u001b[38;5;45mNone\u001b[0m, \u001b[38;5;34m53\u001b[0m)             │         \u001b[38;5;34m6,837\u001b[0m │\n",
       "└─────────────────────────────────┴────────────────────────┴───────────────┘\n"
      ]
     },
     "metadata": {},
     "output_type": "display_data"
    },
    {
     "data": {
      "text/html": [
       "<pre style=\"white-space:pre;overflow-x:auto;line-height:normal;font-family:Menlo,'DejaVu Sans Mono',consolas,'Courier New',monospace\"><span style=\"font-weight: bold\"> Total params: </span><span style=\"color: #00af00; text-decoration-color: #00af00\">1,671,797</span> (6.38 MB)\n",
       "</pre>\n"
      ],
      "text/plain": [
       "\u001b[1m Total params: \u001b[0m\u001b[38;5;34m1,671,797\u001b[0m (6.38 MB)\n"
      ]
     },
     "metadata": {},
     "output_type": "display_data"
    },
    {
     "data": {
      "text/html": [
       "<pre style=\"white-space:pre;overflow-x:auto;line-height:normal;font-family:Menlo,'DejaVu Sans Mono',consolas,'Courier New',monospace\"><span style=\"font-weight: bold\"> Trainable params: </span><span style=\"color: #00af00; text-decoration-color: #00af00\">1,671,445</span> (6.38 MB)\n",
       "</pre>\n"
      ],
      "text/plain": [
       "\u001b[1m Trainable params: \u001b[0m\u001b[38;5;34m1,671,445\u001b[0m (6.38 MB)\n"
      ]
     },
     "metadata": {},
     "output_type": "display_data"
    },
    {
     "data": {
      "text/html": [
       "<pre style=\"white-space:pre;overflow-x:auto;line-height:normal;font-family:Menlo,'DejaVu Sans Mono',consolas,'Courier New',monospace\"><span style=\"font-weight: bold\"> Non-trainable params: </span><span style=\"color: #00af00; text-decoration-color: #00af00\">352</span> (1.38 KB)\n",
       "</pre>\n"
      ],
      "text/plain": [
       "\u001b[1m Non-trainable params: \u001b[0m\u001b[38;5;34m352\u001b[0m (1.38 KB)\n"
      ]
     },
     "metadata": {},
     "output_type": "display_data"
    }
   ],
   "source": [
    "# Construcción del modelo basado en los mejores hiperparámetros.\n",
    "# Puede entrenarse el modelo seleccionado pero sin cerrar la sesión. Como la cerramos debemos crear el modelo a partir de los mejores hiperparámetros.\n",
    "\n",
    "import tensorflow as tf\n",
    "from tensorflow.keras import layers, Input\n",
    "from tensorflow.keras.models import Sequential\n",
    "\n",
    "model = Sequential([\n",
    "    Input(shape=(224, 224, 3)),  # Definir la entrada correctamente\n",
    "    layers.Conv2D(112, (3, 3), activation='relu', padding='same'),\n",
    "    layers.BatchNormalization(),\n",
    "    layers.MaxPooling2D((2, 2)),\n",
    "\n",
    "    layers.Conv2D(48, (3, 3), activation='relu', padding='same'),\n",
    "    layers.BatchNormalization(),\n",
    "    layers.MaxPooling2D((2, 2)),\n",
    "\n",
    "    layers.Conv2D(16, (3, 3), activation='relu', padding='same'),\n",
    "    layers.BatchNormalization(),\n",
    "    layers.MaxPooling2D((2, 2)),\n",
    "\n",
    "    layers.Flatten(),\n",
    "    layers.Dropout(0.5),\n",
    "    layers.Dense(128, activation='relu'),\n",
    "    layers.Dense(53, activation='softmax')\n",
    "])\n",
    "\n",
    "# Compilamos el modelo\n",
    "model.compile(\n",
    "    loss=\"categorical_crossentropy\",\n",
    "    optimizer=tf.keras.optimizers.Adam(),\n",
    "    metrics=[\n",
    "        \"accuracy\",\n",
    "        tf.keras.metrics.Precision(name='precision'),\n",
    "        tf.keras.metrics.Recall(name='recall'),\n",
    "        tf.keras.metrics.AUC(name='auc')\n",
    "    ]\n",
    ")\n",
    "\n",
    "# Mostramos el resumen del modelo\n",
    "model.summary()\n"
   ]
  },
  {
   "cell_type": "code",
   "execution_count": 17,
   "metadata": {},
   "outputs": [
    {
     "name": "stdout",
     "output_type": "stream",
     "text": [
      "Epoch 1/50\n"
     ]
    },
    {
     "name": "stderr",
     "output_type": "stream",
     "text": [
      "WARNING: All log messages before absl::InitializeLog() is called are written to STDERR\n",
      "I0000 00:00:1742363996.726892    5371 service.cc:152] XLA service 0x32a04930 initialized for platform CUDA (this does not guarantee that XLA will be used). Devices:\n",
      "I0000 00:00:1742363996.726960    5371 service.cc:160]   StreamExecutor device (0): NVIDIA GeForce RTX 3080, Compute Capability 8.6\n",
      "2025-03-19 06:59:56.835184: I tensorflow/compiler/mlir/tensorflow/utils/dump_mlir_util.cc:269] disabling MLIR crash reproducer, set env var `MLIR_CRASH_REPRODUCER_DIRECTORY` to enable.\n",
      "I0000 00:00:1742363997.157273    5371 cuda_dnn.cc:529] Loaded cuDNN version 90300\n"
     ]
    },
    {
     "name": "stdout",
     "output_type": "stream",
     "text": [
      "\u001b[1m  1/239\u001b[0m \u001b[37m━━━━━━━━━━━━━━━━━━━━\u001b[0m \u001b[1m1:11:03\u001b[0m 18s/step - accuracy: 0.0000e+00 - auc: 0.4957 - loss: 6.3569 - precision: 0.0000e+00 - recall: 0.0000e+00"
     ]
    },
    {
     "name": "stderr",
     "output_type": "stream",
     "text": [
      "I0000 00:00:1742364005.807575    5371 device_compiler.h:188] Compiled cluster using XLA!  This line is logged at most once for the lifetime of the process.\n"
     ]
    },
    {
     "name": "stdout",
     "output_type": "stream",
     "text": [
      "\u001b[1m239/239\u001b[0m \u001b[32m━━━━━━━━━━━━━━━━━━━━\u001b[0m\u001b[37m\u001b[0m \u001b[1m45s\u001b[0m 113ms/step - accuracy: 0.1364 - auc: 0.7188 - loss: 3.8294 - precision: 0.3672 - recall: 0.0434 - val_accuracy: 0.1547 - val_auc: 0.7090 - val_loss: 4.9527 - val_precision: 0.2692 - val_recall: 0.1057\n",
      "Epoch 2/50\n",
      "\u001b[1m239/239\u001b[0m \u001b[32m━━━━━━━━━━━━━━━━━━━━\u001b[0m\u001b[37m\u001b[0m \u001b[1m19s\u001b[0m 78ms/step - accuracy: 0.4157 - auc: 0.9240 - loss: 2.1007 - precision: 0.7205 - recall: 0.2823 - val_accuracy: 0.5019 - val_auc: 0.9534 - val_loss: 1.6612 - val_precision: 0.7769 - val_recall: 0.3547\n",
      "Epoch 3/50\n",
      "\u001b[1m239/239\u001b[0m \u001b[32m━━━━━━━━━━━━━━━━━━━━\u001b[0m\u001b[37m\u001b[0m \u001b[1m19s\u001b[0m 78ms/step - accuracy: 0.5541 - auc: 0.9537 - loss: 1.5998 - precision: 0.8289 - recall: 0.4396 - val_accuracy: 0.6075 - val_auc: 0.9606 - val_loss: 1.4612 - val_precision: 0.8707 - val_recall: 0.4830\n",
      "Epoch 4/50\n",
      "\u001b[1m239/239\u001b[0m \u001b[32m━━━━━━━━━━━━━━━━━━━━\u001b[0m\u001b[37m\u001b[0m \u001b[1m19s\u001b[0m 78ms/step - accuracy: 0.6610 - auc: 0.9717 - loss: 1.2023 - precision: 0.8729 - recall: 0.5665 - val_accuracy: 0.6981 - val_auc: 0.9702 - val_loss: 1.1945 - val_precision: 0.8342 - val_recall: 0.6264\n",
      "Epoch 5/50\n",
      "\u001b[1m239/239\u001b[0m \u001b[32m━━━━━━━━━━━━━━━━━━━━\u001b[0m\u001b[37m\u001b[0m \u001b[1m18s\u001b[0m 77ms/step - accuracy: 0.7418 - auc: 0.9837 - loss: 0.8983 - precision: 0.8973 - recall: 0.6638 - val_accuracy: 0.7283 - val_auc: 0.9676 - val_loss: 1.0438 - val_precision: 0.8257 - val_recall: 0.6792\n",
      "Epoch 6/50\n",
      "\u001b[1m239/239\u001b[0m \u001b[32m━━━━━━━━━━━━━━━━━━━━\u001b[0m\u001b[37m\u001b[0m \u001b[1m18s\u001b[0m 77ms/step - accuracy: 0.8112 - auc: 0.9907 - loss: 0.6511 - precision: 0.9080 - recall: 0.7516 - val_accuracy: 0.7094 - val_auc: 0.9697 - val_loss: 1.0972 - val_precision: 0.8063 - val_recall: 0.6755\n",
      "Epoch 7/50\n",
      "\u001b[1m239/239\u001b[0m \u001b[32m━━━━━━━━━━━━━━━━━━━━\u001b[0m\u001b[37m\u001b[0m \u001b[1m19s\u001b[0m 78ms/step - accuracy: 0.8566 - auc: 0.9933 - loss: 0.4815 - precision: 0.9275 - recall: 0.8137 - val_accuracy: 0.7623 - val_auc: 0.9662 - val_loss: 1.0693 - val_precision: 0.8201 - val_recall: 0.7396\n",
      "Epoch 8/50\n",
      "\u001b[1m239/239\u001b[0m \u001b[32m━━━━━━━━━━━━━━━━━━━━\u001b[0m\u001b[37m\u001b[0m \u001b[1m18s\u001b[0m 77ms/step - accuracy: 0.8971 - auc: 0.9967 - loss: 0.3289 - precision: 0.9419 - recall: 0.8690 - val_accuracy: 0.7547 - val_auc: 0.9649 - val_loss: 1.1695 - val_precision: 0.8326 - val_recall: 0.7321\n",
      "Epoch 9/50\n",
      "\u001b[1m239/239\u001b[0m \u001b[32m━━━━━━━━━━━━━━━━━━━━\u001b[0m\u001b[37m\u001b[0m \u001b[1m15s\u001b[0m 62ms/step - accuracy: 0.9105 - auc: 0.9972 - loss: 0.2818 - precision: 0.9423 - recall: 0.8906 - val_accuracy: 0.7849 - val_auc: 0.9621 - val_loss: 1.0345 - val_precision: 0.8375 - val_recall: 0.7585\n",
      "Epoch 10/50\n",
      "\u001b[1m239/239\u001b[0m \u001b[32m━━━━━━━━━━━━━━━━━━━━\u001b[0m\u001b[37m\u001b[0m \u001b[1m10s\u001b[0m 42ms/step - accuracy: 0.9309 - auc: 0.9977 - loss: 0.2163 - precision: 0.9562 - recall: 0.9163 - val_accuracy: 0.7887 - val_auc: 0.9686 - val_loss: 0.9277 - val_precision: 0.8247 - val_recall: 0.7811\n",
      "Epoch 11/50\n",
      "\u001b[1m239/239\u001b[0m \u001b[32m━━━━━━━━━━━━━━━━━━━━\u001b[0m\u001b[37m\u001b[0m \u001b[1m10s\u001b[0m 42ms/step - accuracy: 0.9382 - auc: 0.9967 - loss: 0.2122 - precision: 0.9559 - recall: 0.9269 - val_accuracy: 0.7962 - val_auc: 0.9629 - val_loss: 1.0288 - val_precision: 0.8494 - val_recall: 0.7660\n",
      "Epoch 12/50\n",
      "\u001b[1m239/239\u001b[0m \u001b[32m━━━━━━━━━━━━━━━━━━━━\u001b[0m\u001b[37m\u001b[0m \u001b[1m10s\u001b[0m 42ms/step - accuracy: 0.9514 - auc: 0.9979 - loss: 0.1559 - precision: 0.9645 - recall: 0.9456 - val_accuracy: 0.8264 - val_auc: 0.9601 - val_loss: 1.0613 - val_precision: 0.8566 - val_recall: 0.8113\n",
      "Epoch 13/50\n",
      "\u001b[1m239/239\u001b[0m \u001b[32m━━━━━━━━━━━━━━━━━━━━\u001b[0m\u001b[37m\u001b[0m \u001b[1m10s\u001b[0m 42ms/step - accuracy: 0.9589 - auc: 0.9985 - loss: 0.1399 - precision: 0.9682 - recall: 0.9511 - val_accuracy: 0.8264 - val_auc: 0.9600 - val_loss: 1.0633 - val_precision: 0.8560 - val_recall: 0.8075\n",
      "Epoch 14/50\n",
      "\u001b[1m239/239\u001b[0m \u001b[32m━━━━━━━━━━━━━━━━━━━━\u001b[0m\u001b[37m\u001b[0m \u001b[1m10s\u001b[0m 42ms/step - accuracy: 0.9617 - auc: 0.9974 - loss: 0.1382 - precision: 0.9670 - recall: 0.9578 - val_accuracy: 0.8340 - val_auc: 0.9602 - val_loss: 1.0334 - val_precision: 0.8633 - val_recall: 0.8340\n",
      "Epoch 15/50\n",
      "\u001b[1m239/239\u001b[0m \u001b[32m━━━━━━━━━━━━━━━━━━━━\u001b[0m\u001b[37m\u001b[0m \u001b[1m10s\u001b[0m 43ms/step - accuracy: 0.9567 - auc: 0.9981 - loss: 0.1360 - precision: 0.9618 - recall: 0.9518 - val_accuracy: 0.7887 - val_auc: 0.9502 - val_loss: 1.3648 - val_precision: 0.8182 - val_recall: 0.7811\n",
      "Epoch 16/50\n",
      "\u001b[1m239/239\u001b[0m \u001b[32m━━━━━━━━━━━━━━━━━━━━\u001b[0m\u001b[37m\u001b[0m \u001b[1m10s\u001b[0m 41ms/step - accuracy: 0.9585 - auc: 0.9986 - loss: 0.1302 - precision: 0.9645 - recall: 0.9548 - val_accuracy: 0.8000 - val_auc: 0.9633 - val_loss: 1.2390 - val_precision: 0.8294 - val_recall: 0.7887\n",
      "Epoch 17/50\n",
      "\u001b[1m239/239\u001b[0m \u001b[32m━━━━━━━━━━━━━━━━━━━━\u001b[0m\u001b[37m\u001b[0m \u001b[1m10s\u001b[0m 42ms/step - accuracy: 0.9632 - auc: 0.9984 - loss: 0.1247 - precision: 0.9660 - recall: 0.9591 - val_accuracy: 0.8415 - val_auc: 0.9548 - val_loss: 1.1533 - val_precision: 0.8690 - val_recall: 0.8264\n",
      "Epoch 18/50\n",
      "\u001b[1m239/239\u001b[0m \u001b[32m━━━━━━━━━━━━━━━━━━━━\u001b[0m\u001b[37m\u001b[0m \u001b[1m10s\u001b[0m 42ms/step - accuracy: 0.9662 - auc: 0.9976 - loss: 0.1244 - precision: 0.9685 - recall: 0.9631 - val_accuracy: 0.8226 - val_auc: 0.9602 - val_loss: 1.2502 - val_precision: 0.8492 - val_recall: 0.8075\n",
      "Epoch 19/50\n",
      "\u001b[1m239/239\u001b[0m \u001b[32m━━━━━━━━━━━━━━━━━━━━\u001b[0m\u001b[37m\u001b[0m \u001b[1m10s\u001b[0m 41ms/step - accuracy: 0.9724 - auc: 0.9993 - loss: 0.0839 - precision: 0.9763 - recall: 0.9688 - val_accuracy: 0.8302 - val_auc: 0.9511 - val_loss: 1.2237 - val_precision: 0.8611 - val_recall: 0.8189\n",
      "Epoch 20/50\n",
      "\u001b[1m239/239\u001b[0m \u001b[32m━━━━━━━━━━━━━━━━━━━━\u001b[0m\u001b[37m\u001b[0m \u001b[1m10s\u001b[0m 42ms/step - accuracy: 0.9665 - auc: 0.9973 - loss: 0.1210 - precision: 0.9706 - recall: 0.9621 - val_accuracy: 0.8340 - val_auc: 0.9492 - val_loss: 1.3235 - val_precision: 0.8533 - val_recall: 0.8340\n",
      "Epoch 21/50\n",
      "\u001b[1m239/239\u001b[0m \u001b[32m━━━━━━━━━━━━━━━━━━━━\u001b[0m\u001b[37m\u001b[0m \u001b[1m10s\u001b[0m 43ms/step - accuracy: 0.9728 - auc: 0.9985 - loss: 0.0976 - precision: 0.9772 - recall: 0.9690 - val_accuracy: 0.7925 - val_auc: 0.9466 - val_loss: 1.4932 - val_precision: 0.8214 - val_recall: 0.7811\n",
      "Epoch 22/50\n",
      "\u001b[1m239/239\u001b[0m \u001b[32m━━━━━━━━━━━━━━━━━━━━\u001b[0m\u001b[37m\u001b[0m \u001b[1m10s\u001b[0m 41ms/step - accuracy: 0.9742 - auc: 0.9988 - loss: 0.0851 - precision: 0.9773 - recall: 0.9721 - val_accuracy: 0.8151 - val_auc: 0.9395 - val_loss: 1.4079 - val_precision: 0.8295 - val_recall: 0.8075\n",
      "Epoch 23/50\n",
      "\u001b[1m239/239\u001b[0m \u001b[32m━━━━━━━━━━━━━━━━━━━━\u001b[0m\u001b[37m\u001b[0m \u001b[1m10s\u001b[0m 42ms/step - accuracy: 0.9781 - auc: 0.9982 - loss: 0.0791 - precision: 0.9798 - recall: 0.9758 - val_accuracy: 0.8264 - val_auc: 0.9494 - val_loss: 1.3786 - val_precision: 0.8372 - val_recall: 0.8151\n",
      "Epoch 24/50\n",
      "\u001b[1m239/239\u001b[0m \u001b[32m━━━━━━━━━━━━━━━━━━━━\u001b[0m\u001b[37m\u001b[0m \u001b[1m10s\u001b[0m 42ms/step - accuracy: 0.9774 - auc: 0.9982 - loss: 0.0851 - precision: 0.9793 - recall: 0.9749 - val_accuracy: 0.8340 - val_auc: 0.9626 - val_loss: 1.1909 - val_precision: 0.8533 - val_recall: 0.8340\n",
      "Epoch 25/50\n",
      "\u001b[1m239/239\u001b[0m \u001b[32m━━━━━━━━━━━━━━━━━━━━\u001b[0m\u001b[37m\u001b[0m \u001b[1m10s\u001b[0m 42ms/step - accuracy: 0.9742 - auc: 0.9976 - loss: 0.0907 - precision: 0.9764 - recall: 0.9721 - val_accuracy: 0.8340 - val_auc: 0.9567 - val_loss: 1.2896 - val_precision: 0.8566 - val_recall: 0.8340\n"
     ]
    }
   ],
   "source": [
    "from tensorflow.keras.callbacks import ModelCheckpoint, EarlyStopping\n",
    "\n",
    "early_stopping = EarlyStopping(monitor='val_loss',  \n",
    "                               patience=15,  \n",
    "                               min_delta=0.01,  \n",
    "                               restore_best_weights=True)\n",
    "\n",
    "checkpoint = ModelCheckpoint('Modelos/keras_tuner_dir/keras_tuner_model.keras',\n",
    "                             monitor='val_loss', \n",
    "                             verbose=0, \n",
    "                             save_best_only=True)\n",
    "\n",
    "# Entrenamiento\n",
    "keras_tuner_model_cartas = model.fit(\n",
    "    train_ds,\n",
    "    epochs=50,\n",
    "    validation_data=val_ds,\n",
    "    callbacks=[checkpoint, early_stopping])"
   ]
  },
  {
   "cell_type": "markdown",
   "metadata": {},
   "source": [
    "Nos arroja una buena relación precisión-pérdida.\n",
    "Hemos guardado el modelo y lo probaremos frente a los datos de test y validación en el fichero Identification_cards_type"
   ]
  }
 ],
 "metadata": {
  "kernelspec": {
   "display_name": "entornoAP",
   "language": "python",
   "name": "python3"
  },
  "language_info": {
   "codemirror_mode": {
    "name": "ipython",
    "version": 3
   },
   "file_extension": ".py",
   "mimetype": "text/x-python",
   "name": "python",
   "nbconvert_exporter": "python",
   "pygments_lexer": "ipython3",
   "version": "3.9.21"
  }
 },
 "nbformat": 4,
 "nbformat_minor": 2
}
